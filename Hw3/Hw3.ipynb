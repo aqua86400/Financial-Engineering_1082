{
 "cells": [
  {
   "cell_type": "markdown",
   "metadata": {},
   "source": [
    "# 選擇權的二項式定價法 (Binomial Options Pricing Model)"
   ]
  },
  {
   "cell_type": "markdown",
   "metadata": {},
   "source": [
    "## 輸入資料：當今股價、執行價格、無風險利率、到期時間、上升&下降因子"
   ]
  },
  {
   "cell_type": "code",
   "execution_count": 36,
   "metadata": {},
   "outputs": [
    {
     "name": "stdout",
     "output_type": "stream",
     "text": [
      "Input the price of non-dividend-paying stock: 160\n"
     ]
    }
   ],
   "source": [
    "price = float(input(\"Input the price of non-dividend-paying stock: \"))  #當今股價"
   ]
  },
  {
   "cell_type": "code",
   "execution_count": 37,
   "metadata": {},
   "outputs": [
    {
     "name": "stdout",
     "output_type": "stream",
     "text": [
      "Input the strike price: 150\n"
     ]
    }
   ],
   "source": [
    "strike = float(input(\"Input the strike price: \"))  #履約價(執行價格)"
   ]
  },
  {
   "cell_type": "code",
   "execution_count": 38,
   "metadata": {},
   "outputs": [
    {
     "name": "stdout",
     "output_type": "stream",
     "text": [
      "Input the risk-free rate (in %): 18.232\n",
      "So the continuously compounded rate is R = e^rate = 1.199998\n"
     ]
    }
   ],
   "source": [
    "import math\n",
    "rate = float(input(\"Input the risk-free rate (in %): \"))  #無風險利率\n",
    "R = math.e**(rate/100)\n",
    "print(\"So the continuously compounded rate is R = e^rate = %f\" % R)"
   ]
  },
  {
   "cell_type": "code",
   "execution_count": 39,
   "metadata": {},
   "outputs": [
    {
     "name": "stdout",
     "output_type": "stream",
     "text": [
      "Enter the expiration time periods: 3\n"
     ]
    }
   ],
   "source": [
    "n = int(input(\"Enter the expiration time periods: \"))  #到期期數"
   ]
  },
  {
   "cell_type": "code",
   "execution_count": 40,
   "metadata": {},
   "outputs": [
    {
     "name": "stdout",
     "output_type": "stream",
     "text": [
      "Input the ascent factor u (u>1): 1.5\n"
     ]
    }
   ],
   "source": [
    "u = float(input(\"Input the ascent factor u (u>1): \"))  #上升因子"
   ]
  },
  {
   "cell_type": "code",
   "execution_count": 41,
   "metadata": {},
   "outputs": [
    {
     "name": "stdout",
     "output_type": "stream",
     "text": [
      "Input the descent factor d (d<1): 0.5\n"
     ]
    }
   ],
   "source": [
    "d = float(input(\"Input the descent factor d (d<1): \"))  #下降因子"
   ]
  },
  {
   "cell_type": "markdown",
   "metadata": {},
   "source": [
    "## 用 Backward Induction 計算各期的 Call 或 Put 之價格"
   ]
  },
  {
   "cell_type": "code",
   "execution_count": 45,
   "metadata": {},
   "outputs": [],
   "source": [
    "import numpy as np\n",
    "p = (R-d)/(u-d)  # risk-neutral probability\n",
    "C = np.array([None]*(n+1))  # 最後期的買權價格陣列\n",
    "P = np.array([None]*(n+1))  # 最後期的賣權價格陣列\n",
    "\n",
    "for i in range(n+1):                # 存入最後期之選擇權價格\n",
    "    C[i] = max(0, price*u**(n-i)*d**i - strike)\n",
    "    P[i] = max(0, strike - price*u**(n-i)*d**i)\n",
    "\n",
    "def value_at(x,y,Type):             # 用遞迴法得到上升x次下降y次的選擇權價格\n",
    "    if x==n:\n",
    "        return Type[y]\n",
    "    \n",
    "    return (p*value_at(x+1,y,Type)+(1-p)*value_at(x+1,y+1,Type))/R"
   ]
  },
  {
   "cell_type": "markdown",
   "metadata": {},
   "source": [
    "## 輸出：現在 買權、賣權 的價格 "
   ]
  },
  {
   "cell_type": "code",
   "execution_count": 46,
   "metadata": {},
   "outputs": [
    {
     "name": "stdout",
     "output_type": "stream",
     "text": [
      "The call price now is: 85.069229\n"
     ]
    }
   ],
   "source": [
    "print('The call price now is: %f' %value_at(0,0,C))"
   ]
  },
  {
   "cell_type": "code",
   "execution_count": 47,
   "metadata": {},
   "outputs": [
    {
     "name": "stdout",
     "output_type": "stream",
     "text": [
      "The put price now is: 11.875190\n"
     ]
    }
   ],
   "source": [
    "print('The put price now is: %f' %value_at(0,0,P))"
   ]
  },
  {
   "cell_type": "code",
   "execution_count": null,
   "metadata": {},
   "outputs": [],
   "source": []
  }
 ],
 "metadata": {
  "kernelspec": {
   "display_name": "Python 3",
   "language": "python",
   "name": "python3"
  },
  "language_info": {
   "codemirror_mode": {
    "name": "ipython",
    "version": 3
   },
   "file_extension": ".py",
   "mimetype": "text/x-python",
   "name": "python",
   "nbconvert_exporter": "python",
   "pygments_lexer": "ipython3",
   "version": "3.6.5"
  }
 },
 "nbformat": 4,
 "nbformat_minor": 2
}
