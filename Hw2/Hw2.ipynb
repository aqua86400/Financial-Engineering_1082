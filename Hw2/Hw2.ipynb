{
 "cells": [
  {
   "cell_type": "markdown",
   "metadata": {},
   "source": [
    "# 債券報價中的 YTM、Spot Rate、Forward Rate"
   ]
  },
  {
   "cell_type": "markdown",
   "metadata": {},
   "source": [
    "## 輸入資料：債券現值、面值、年期、配息、付息次數"
   ]
  },
  {
   "cell_type": "code",
   "execution_count": 1,
   "metadata": {},
   "outputs": [
    {
     "name": "stdout",
     "output_type": "stream",
     "text": [
      "Input the bond's present value:(請輸入債券現值):99\n"
     ]
    }
   ],
   "source": [
    "pre_value = float(input(\"Input the bond's present value:(請輸入債券現值):\"))  #債券現值、價格"
   ]
  },
  {
   "cell_type": "code",
   "execution_count": 2,
   "metadata": {},
   "outputs": [
    {
     "name": "stdout",
     "output_type": "stream",
     "text": [
      "Input the bond's par value:(請輸入債券面值)100\n"
     ]
    }
   ],
   "source": [
    "par_value = float(input(\"Input the bond's par value:(請輸入債券面值)\"))  #債券票面價值"
   ]
  },
  {
   "cell_type": "code",
   "execution_count": 3,
   "metadata": {},
   "outputs": [
    {
     "name": "stdout",
     "output_type": "stream",
     "text": [
      "Input the year of the bond:(請輸入債券的年期):2\n"
     ]
    }
   ],
   "source": [
    "year = int(input(\"Input the year of the bond:(請輸入債券的年期):\"))  #年期數"
   ]
  },
  {
   "cell_type": "code",
   "execution_count": 4,
   "metadata": {},
   "outputs": [
    {
     "name": "stdout",
     "output_type": "stream",
     "text": [
      "Input the coupon rate(%) of the bond :(請輸入債息百分比):2\n"
     ]
    }
   ],
   "source": [
    "bond_coup = float(input(\"Input the coupon rate(%) of the bond :(請輸入債息百分比):\"))  #債券配息率"
   ]
  },
  {
   "cell_type": "code",
   "execution_count": 5,
   "metadata": {},
   "outputs": [
    {
     "name": "stdout",
     "output_type": "stream",
     "text": [
      "Input the frequency of interest payments per year:2\n"
     ]
    }
   ],
   "source": [
    "freq = int(input(\"Input the frequency of interest payments per year:\"))  #每年付息次數"
   ]
  },
  {
   "cell_type": "markdown",
   "metadata": {},
   "source": [
    "## 計算債券到期收益率(YTM)的函數"
   ]
  },
  {
   "cell_type": "code",
   "execution_count": 43,
   "metadata": {},
   "outputs": [],
   "source": [
    "def is_pos_num(s):\n",
    "    try:\n",
    "        int(s)\n",
    "    except:\n",
    "        return False\n",
    "    if s<=0:\n",
    "        return False\n",
    "    return True"
   ]
  },
  {
   "cell_type": "code",
   "execution_count": 52,
   "metadata": {},
   "outputs": [],
   "source": [
    "from sympy import *\n",
    "import scipy.optimize as optimize\n",
    "def YTM_of_bond(pre, par, year, coup, freq):\n",
    "    periods = year*freq\n",
    "    per_coup = coup/100*par/freq\n",
    "    \n",
    "    y = symbols('y')\n",
    "    func = sum([per_coup/(1+y/freq)**(i+1) for i in range(periods)]) + par/(1+y/freq)**periods - pre\n",
    "    \n",
    "    #return solve(func,y)\n",
    "    return [x for x in solve(func,y) if is_pos_num(x)]"
   ]
  },
  {
   "cell_type": "code",
   "execution_count": 53,
   "metadata": {},
   "outputs": [
    {
     "data": {
      "text/plain": [
       "0.0251582216359343"
      ]
     },
     "execution_count": 53,
     "metadata": {},
     "output_type": "execute_result"
    }
   ],
   "source": [
    "ytm = YTM_of_bond(pre_value, par_value, year, bond_coup, freq)[0]\n",
    "ytm"
   ]
  },
  {
   "cell_type": "code",
   "execution_count": null,
   "metadata": {},
   "outputs": [],
   "source": [
    "## 計算Spot Rate"
   ]
  }
 ],
 "metadata": {
  "kernelspec": {
   "display_name": "Python 3",
   "language": "python",
   "name": "python3"
  },
  "language_info": {
   "codemirror_mode": {
    "name": "ipython",
    "version": 3
   },
   "file_extension": ".py",
   "mimetype": "text/x-python",
   "name": "python",
   "nbconvert_exporter": "python",
   "pygments_lexer": "ipython3",
   "version": "3.6.5"
  }
 },
 "nbformat": 4,
 "nbformat_minor": 2
}
