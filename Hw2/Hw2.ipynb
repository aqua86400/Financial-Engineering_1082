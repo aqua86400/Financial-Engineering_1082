{
 "cells": [
  {
   "cell_type": "markdown",
   "metadata": {},
   "source": [
    "# 債券報價中的 YTM、Spot Rate、Forward Rate"
   ]
  },
  {
   "cell_type": "markdown",
   "metadata": {},
   "source": [
    "## 輸入資料：債券現值、面值、年期、配息、付息次數"
   ]
  },
  {
   "cell_type": "code",
   "execution_count": 17,
   "metadata": {},
   "outputs": [
    {
     "name": "stdout",
     "output_type": "stream",
     "text": [
      "Input the bond's present value:(請輸入債券現值):102.91\n"
     ]
    }
   ],
   "source": [
    "pre_value = float(input(\"Input the bond's present value:(請輸入債券現值):\"))  #債券現值、價格"
   ]
  },
  {
   "cell_type": "code",
   "execution_count": 2,
   "metadata": {},
   "outputs": [
    {
     "name": "stdout",
     "output_type": "stream",
     "text": [
      "Input the bond's par value:(請輸入債券面值):100\n"
     ]
    }
   ],
   "source": [
    "par_value = float(input(\"Input the bond's par value:(請輸入債券面值):\"))  #債券票面價值"
   ]
  },
  {
   "cell_type": "code",
   "execution_count": 3,
   "metadata": {},
   "outputs": [
    {
     "name": "stdout",
     "output_type": "stream",
     "text": [
      "Input the year of the bond:(請輸入債券的年期):1.5\n"
     ]
    }
   ],
   "source": [
    "year = float(input(\"Input the year of the bond:(請輸入債券的年期):\"))  #年期數(固定1.5或2)"
   ]
  },
  {
   "cell_type": "code",
   "execution_count": 18,
   "metadata": {},
   "outputs": [
    {
     "name": "stdout",
     "output_type": "stream",
     "text": [
      "Input the coupon rate(%) of the bond :(請輸入債息百分比):5\n"
     ]
    }
   ],
   "source": [
    "bond_coup = float(input(\"Input the coupon rate(%) of the bond :(請輸入債息百分比):\"))  #債券配息率"
   ]
  },
  {
   "cell_type": "code",
   "execution_count": 5,
   "metadata": {},
   "outputs": [
    {
     "name": "stdout",
     "output_type": "stream",
     "text": [
      "Input the frequency of interest payments per year(1 or 2):(每年付息次數(1或2)):2\n"
     ]
    }
   ],
   "source": [
    "freq = int(input(\"Input the times of interest payments per year(1 or 2):(每年付息次數(1或2)):\"))  #每年付息次數"
   ]
  },
  {
   "cell_type": "markdown",
   "metadata": {},
   "source": [
    "## 計算債券的到期收益率(YTM)"
   ]
  },
  {
   "cell_type": "code",
   "execution_count": 19,
   "metadata": {},
   "outputs": [],
   "source": [
    "#判斷是否為正實數的函數(後面選值須用到)\n",
    "def is_pos_num(s):\n",
    "    try:\n",
    "        int(s)\n",
    "    except:\n",
    "        return False\n",
    "    if s<=0:\n",
    "        return False\n",
    "    return True"
   ]
  },
  {
   "cell_type": "code",
   "execution_count": 27,
   "metadata": {},
   "outputs": [],
   "source": [
    "#YTM函數\n",
    "from sympy import *\n",
    "def YTM_of_bond(pre, par, year, coup, freq):\n",
    "    if coup == 0:\n",
    "        periods = year*freq\n",
    "        return ((par/pre)**(1/periods)-1)*freq\n",
    "    else:\n",
    "        periods = int(year*freq)\n",
    "        per_coup = coup/100*par/freq\n",
    "\n",
    "        y = symbols('y')\n",
    "        func = sum([per_coup/(1+y/freq)**(i+1) for i in range(periods)]) + par/(1+y/freq)**periods - pre  #方程式\n",
    "        ytm = [x for x in solve(func,y) if is_pos_num(x)][0]  #只有一個，取第一個就是解\n",
    "        #return solve(func,y)  #這裡會有負數與複數\n",
    "        return ytm"
   ]
  },
  {
   "cell_type": "code",
   "execution_count": 21,
   "metadata": {},
   "outputs": [
    {
     "data": {
      "text/plain": [
       "0.0300148213380233"
      ]
     },
     "execution_count": 21,
     "metadata": {},
     "output_type": "execute_result"
    }
   ],
   "source": [
    "YTM_of_bond(pre_value, par_value, year, bond_coup, freq)  #該債券的YTM"
   ]
  },
  {
   "cell_type": "markdown",
   "metadata": {},
   "source": [
    "## 計算即期利率(Spot Rate)"
   ]
  },
  {
   "cell_type": "code",
   "execution_count": 37,
   "metadata": {},
   "outputs": [
    {
     "data": {
      "text/plain": [
       "(0.010050251256281229, 0.019995929712302463)"
      ]
     },
     "execution_count": 37,
     "metadata": {},
     "output_type": "execute_result"
    }
   ],
   "source": [
    "#給定一個半年、一個一年的 Zero Coupon Bond的資料(計算1.5年的需要)：\n",
    "price_of_B1 = 99.5\n",
    "price_of_B2 = 98.03\n",
    "\n",
    "YTM_of_bond(price_of_B1, 100, 0.5, 0, 2),YTM_of_bond(price_of_B2, 100, 1, 0, 2) #上面兩個 bond的 YTM"
   ]
  },
  {
   "cell_type": "code",
   "execution_count": 24,
   "metadata": {},
   "outputs": [],
   "source": [
    "#Spot Rate函數\n",
    "def SR_of_bond(pre, par, year, coup, freq):\n",
    "    periods = int(year*freq)\n",
    "    per_coup = coup/100*par/freq\n",
    "    s = Symbol('s')   \n",
    "    \n",
    "    if coup == 0:\n",
    "        return YTM_of_bond(pre, par, year, coup, freq)    #零息債 SR=YTM\n",
    "    \n",
    "    elif freq == 1:\n",
    "        S_R = [YTM_of_bond(price_of_B2, 100, 1, 0, freq)]  #需看一年的\n",
    "        for n in range(periods-1):\n",
    "            func = sum([per_coup/(1+S_R[i])**(i+1) for i in range(n+1)]) + (per_coup+par)/(1+s)**(n+2) - pre\n",
    "            S_R.append([s for s in solve(func,s) if is_pos_num(s)][0])\n",
    "\n",
    "        return S_R[-1]\n",
    "    \n",
    "    elif freq == 2:\n",
    "        S_R = [YTM_of_bond(price_of_B1, 100, 0.5, 0, freq),YTM_of_bond(price_of_B2, 100, 1, 0, freq)]  #需看半年與一年的\n",
    "        for n in range(periods-2):\n",
    "            func = sum([per_coup/(1+S_R[i]/2)**(i+1) for i in range(n+2)]) + (per_coup+par)/(1+s/2)**(n+3) - pre\n",
    "            S_R.append([s for s in solve(func,s) if is_pos_num(s)][0])\n",
    "          \n",
    "        return S_R[-1]\n",
    "        "
   ]
  },
  {
   "cell_type": "code",
   "execution_count": 28,
   "metadata": {},
   "outputs": [
    {
     "data": {
      "text/plain": [
       "0.010050251256281229"
      ]
     },
     "execution_count": 28,
     "metadata": {},
     "output_type": "execute_result"
    }
   ],
   "source": [
    "SR_of_bond(price_of_B1, 100, 0.5, 0, freq) #B1的SR"
   ]
  },
  {
   "cell_type": "code",
   "execution_count": 31,
   "metadata": {},
   "outputs": [
    {
     "data": {
      "text/plain": [
       "0.019995929712302463"
      ]
     },
     "execution_count": 31,
     "metadata": {},
     "output_type": "execute_result"
    }
   ],
   "source": [
    "SR_of_bond(price_of_B2, 100, 1.0, 0, freq) #B2的SR"
   ]
  },
  {
   "cell_type": "code",
   "execution_count": 33,
   "metadata": {},
   "outputs": [
    {
     "data": {
      "text/plain": [
       "0.0303504009904628"
      ]
     },
     "execution_count": 33,
     "metadata": {},
     "output_type": "execute_result"
    }
   ],
   "source": [
    "SR_of_bond(pre_value, par_value, year, bond_coup, freq) #new bond's SR"
   ]
  },
  {
   "cell_type": "markdown",
   "metadata": {},
   "source": [
    "## 計算遠期利率(Forward Rate)並建立對照表"
   ]
  },
  {
   "cell_type": "code",
   "execution_count": 34,
   "metadata": {},
   "outputs": [],
   "source": [
    "#先建好資料\n",
    "pre_list = [price_of_B1, price_of_B2, pre_value]\n",
    "par_list = [100, 100, par_value]\n",
    "coup_list = [0, 0 , bond_coup]\n",
    "\n",
    "import numpy as np\n",
    "def FR_of_bond(pre, par, year, coup, freq):\n",
    "    periods = int(year*freq)\n",
    "    data = np.array([[None]*periods]*periods)  #建立 nxn array\n",
    "    for i in range(periods):\n",
    "        for j in range(periods):\n",
    "            if j>i:  #對角線以上才有值\n",
    "                data[i][j] = ((1+SR_of_bond(pre_list[j], par_list[j], (j+1)/freq, coup_list[j], freq))**(j+1)\n",
    "                              /(1+SR_of_bond(pre_list[i], par_list[i], (i+1)/freq, coup_list[i], freq))**(i+1))**(1/(j-i))-1\n",
    "    return data"
   ]
  },
  {
   "cell_type": "code",
   "execution_count": 35,
   "metadata": {},
   "outputs": [
    {
     "data": {
      "text/plain": [
       "array([[None, 0.030039540444294577, 0.0406529655420242],\n",
       "       [None, None, 0.0513757503175936],\n",
       "       [None, None, None]], dtype=object)"
      ]
     },
     "execution_count": 35,
     "metadata": {},
     "output_type": "execute_result"
    }
   ],
   "source": [
    "FR_of_bond(pre_value, par_value, year, bond_coup, freq)"
   ]
  },
  {
   "cell_type": "code",
   "execution_count": 36,
   "metadata": {},
   "outputs": [
    {
     "data": {
      "text/html": [
       "<div>\n",
       "<style scoped>\n",
       "    .dataframe tbody tr th:only-of-type {\n",
       "        vertical-align: middle;\n",
       "    }\n",
       "\n",
       "    .dataframe tbody tr th {\n",
       "        vertical-align: top;\n",
       "    }\n",
       "\n",
       "    .dataframe thead th {\n",
       "        text-align: right;\n",
       "    }\n",
       "</style>\n",
       "<table border=\"1\" class=\"dataframe\">\n",
       "  <thead>\n",
       "    <tr style=\"text-align: right;\">\n",
       "      <th></th>\n",
       "      <th>0</th>\n",
       "      <th>1</th>\n",
       "      <th>2</th>\n",
       "    </tr>\n",
       "  </thead>\n",
       "  <tbody>\n",
       "    <tr>\n",
       "      <th>0</th>\n",
       "      <td>None</td>\n",
       "      <td>0.0300395</td>\n",
       "      <td>0.0406529655420242</td>\n",
       "    </tr>\n",
       "    <tr>\n",
       "      <th>1</th>\n",
       "      <td>None</td>\n",
       "      <td>None</td>\n",
       "      <td>0.0513757503175936</td>\n",
       "    </tr>\n",
       "    <tr>\n",
       "      <th>2</th>\n",
       "      <td>None</td>\n",
       "      <td>None</td>\n",
       "      <td>None</td>\n",
       "    </tr>\n",
       "  </tbody>\n",
       "</table>\n",
       "</div>"
      ],
      "text/plain": [
       "      0          1                   2\n",
       "0  None  0.0300395  0.0406529655420242\n",
       "1  None       None  0.0513757503175936\n",
       "2  None       None                None"
      ]
     },
     "execution_count": 36,
     "metadata": {},
     "output_type": "execute_result"
    }
   ],
   "source": [
    "#Forward Rate表\n",
    "import pandas as pd\n",
    "periods = int(year*freq)\n",
    "df = pd.DataFrame(FR_of_bond(pre_value, par_value, year, bond_coup, freq))\n",
    "df"
   ]
  },
  {
   "cell_type": "code",
   "execution_count": null,
   "metadata": {},
   "outputs": [],
   "source": []
  }
 ],
 "metadata": {
  "kernelspec": {
   "display_name": "Python 3",
   "language": "python",
   "name": "python3"
  },
  "language_info": {
   "codemirror_mode": {
    "name": "ipython",
    "version": 3
   },
   "file_extension": ".py",
   "mimetype": "text/x-python",
   "name": "python",
   "nbconvert_exporter": "python",
   "pygments_lexer": "ipython3",
   "version": "3.6.5"
  }
 },
 "nbformat": 4,
 "nbformat_minor": 2
}
