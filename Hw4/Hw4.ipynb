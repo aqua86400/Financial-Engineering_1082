{
 "cells": [
  {
   "cell_type": "markdown",
   "metadata": {},
   "source": [
    "# 計算歐式選擇權價格(使用 BS model)"
   ]
  },
  {
   "cell_type": "code",
   "execution_count": 15,
   "metadata": {},
   "outputs": [],
   "source": [
    "#原題目：\n",
    "\n",
    "## A stock is currently priced at $75 and has a σ of 0.35.\n",
    "## It will pay two $1 dividends in 1 month and 4 months.\n",
    "## If r = 6%, what is the value of a European put and call option with an exercise price of $65 maturing in 6 months?"
   ]
  },
  {
   "cell_type": "markdown",
   "metadata": {},
   "source": [
    "## 輸入項目：股價、波動度、履約價、無風險利率、到期期限"
   ]
  },
  {
   "cell_type": "code",
   "execution_count": 24,
   "metadata": {},
   "outputs": [
    {
     "name": "stdout",
     "output_type": "stream",
     "text": [
      "Input the current price of stock: 75\n"
     ]
    }
   ],
   "source": [
    "S_price = float(input(\"Input the current price of stock: \"))  #當今股價 S"
   ]
  },
  {
   "cell_type": "code",
   "execution_count": 17,
   "metadata": {},
   "outputs": [
    {
     "name": "stdout",
     "output_type": "stream",
     "text": [
      "Input the stock's volatility, sigma: 0.35\n"
     ]
    }
   ],
   "source": [
    "sigma = float(input(\"Input the stock's volatility, sigma: \"))  #波動度 σ"
   ]
  },
  {
   "cell_type": "code",
   "execution_count": 29,
   "metadata": {},
   "outputs": [
    {
     "name": "stdout",
     "output_type": "stream",
     "text": [
      "Input the exercise price: 65\n"
     ]
    }
   ],
   "source": [
    "X_price = float(input(\"Input the exercise price: \"))  #履約價 X"
   ]
  },
  {
   "cell_type": "code",
   "execution_count": 19,
   "metadata": {},
   "outputs": [
    {
     "name": "stdout",
     "output_type": "stream",
     "text": [
      "Input the risk-free interest rate (in %): 6\n"
     ]
    }
   ],
   "source": [
    "rate = float(input(\"Input the risk-free interest rate (in %): \"))  #無風險利率 r"
   ]
  },
  {
   "cell_type": "code",
   "execution_count": 20,
   "metadata": {},
   "outputs": [
    {
     "name": "stdout",
     "output_type": "stream",
     "text": [
      "Input the maturing periods in months: 6\n"
     ]
    }
   ],
   "source": [
    "tau = int(input(\"Input the maturing periods in months: \"))  #到期期間 τ (月)"
   ]
  },
  {
   "cell_type": "code",
   "execution_count": 23,
   "metadata": {},
   "outputs": [
    {
     "name": "stdout",
     "output_type": "stream",
     "text": [
      "Input the dividend given in a time: 1\n"
     ]
    }
   ],
   "source": [
    "div = float(input(\"Input the dividend given in a time: \"))  #股利"
   ]
  },
  {
   "cell_type": "markdown",
   "metadata": {},
   "source": [
    "## 計算買賣權價格"
   ]
  },
  {
   "cell_type": "code",
   "execution_count": 57,
   "metadata": {
    "scrolled": true
   },
   "outputs": [
    {
     "name": "stdout",
     "output_type": "stream",
     "text": [
      "The call and put option price are $12.81 and $2.86, respectively.\n"
     ]
    }
   ],
   "source": [
    "import math as m\n",
    "from scipy.stats import norm\n",
    "e = m.e\n",
    "r = rate/100  \n",
    "t = tau/12\n",
    "\n",
    "D = div*(e**(-r * 1/12)+e**(-r * 4/12))  # pay only on 1st and 4th month (present value of riskless dividends)\n",
    "S_hat = S_price-D  # risky component\n",
    "\n",
    "# Using Black-Scholes formula\n",
    "d_1 = (m.log(S_hat/X_price)+(r+0.5*sigma**2)*t)/(sigma*t**0.5)\n",
    "d_2 = d_1 - sigma*t**0.5\n",
    "\n",
    "p = X_price*e**(-r*t)*norm.cdf(-d_2) - S_hat*norm.cdf(-d_1)  # put\n",
    "c = S_hat*norm.cdf(d_1) - X_price*e**(-r*t)*norm.cdf(d_2)   # call\n",
    "\n",
    "print(\"The call and put option price are $%.2f and $%.2f, respectively.\" %(c,p))  #取到小數點後兩位並輸出"
   ]
  },
  {
   "cell_type": "code",
   "execution_count": null,
   "metadata": {},
   "outputs": [],
   "source": []
  }
 ],
 "metadata": {
  "kernelspec": {
   "display_name": "Python 3",
   "language": "python",
   "name": "python3"
  },
  "language_info": {
   "codemirror_mode": {
    "name": "ipython",
    "version": 3
   },
   "file_extension": ".py",
   "mimetype": "text/x-python",
   "name": "python",
   "nbconvert_exporter": "python",
   "pygments_lexer": "ipython3",
   "version": "3.6.5"
  }
 },
 "nbformat": 4,
 "nbformat_minor": 2
}
