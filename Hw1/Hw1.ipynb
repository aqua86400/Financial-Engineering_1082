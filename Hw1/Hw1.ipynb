{
 "cells": [
  {
   "cell_type": "markdown",
   "metadata": {},
   "source": [
    "# 本金平均攤還 "
   ]
  },
  {
   "cell_type": "markdown",
   "metadata": {},
   "source": [
    "## 輸入資料：本金、年期數、年利率"
   ]
  },
  {
   "cell_type": "code",
   "execution_count": 1,
   "metadata": {},
   "outputs": [
    {
     "name": "stdout",
     "output_type": "stream",
     "text": [
      "Input the value of principle:(請輸入本金金額)：80000\n"
     ]
    }
   ],
   "source": [
    "principle = int(input(\"Input the value of principle:(請輸入本金金額)：\"))  #本金"
   ]
  },
  {
   "cell_type": "code",
   "execution_count": 2,
   "metadata": {},
   "outputs": [
    {
     "name": "stdout",
     "output_type": "stream",
     "text": [
      "Input the year of loan period:(請輸入貸款年期)：2\n"
     ]
    }
   ],
   "source": [
    "year = float(input(\"Input the year of loan period:(請輸入貸款年期)：\"))  #年期數"
   ]
  },
  {
   "cell_type": "code",
   "execution_count": 3,
   "metadata": {},
   "outputs": [
    {
     "name": "stdout",
     "output_type": "stream",
     "text": [
      "Input the annual interest rate(%):(請輸入年利率(%))：1.2\n"
     ]
    }
   ],
   "source": [
    "rate = float(input(\"Input the annual interest rate(%):(請輸入年利率(%))：\"))  #年利率"
   ]
  },
  {
   "cell_type": "markdown",
   "metadata": {},
   "source": [
    "## 計算每月(期)需還之本金、利息及本金利息累計"
   ]
  },
  {
   "cell_type": "code",
   "execution_count": 4,
   "metadata": {},
   "outputs": [],
   "source": [
    "#四捨五入到整數第一位的函數\n",
    "def rnd(x):\n",
    "    if x*10-int(x)*10 <5:\n",
    "        return int(x)\n",
    "    else:\n",
    "        return int(x)+1"
   ]
  },
  {
   "cell_type": "code",
   "execution_count": 5,
   "metadata": {},
   "outputs": [],
   "source": [
    "from math import ceil\n",
    "avg_prin_per_mon = ceil(principle/int(year*12))  #計算每月平均需還本金(採無條件進入法)\n",
    "mon_rate = rate/12\n",
    "prin_mon_pay = []  #每月需還本金串列\n",
    "inte_mon_pay = []  #每月需還利息串列\n",
    "all_accu_pay = []  #每月本金利息累計\n",
    "\n",
    "for i in range(int(year*12)):\n",
    "    prin_mon_pay.append(min(avg_prin_per_mon,principle-avg_prin_per_mon*i))  #最末月需調整金額\n",
    "    inte_mon_pay.append(rnd((principle-avg_prin_per_mon*i)*mon_rate/100))  #利息採四捨五入法\n",
    "    all_accu_pay.append(sum(prin_mon_pay) + sum(inte_mon_pay))\n"
   ]
  },
  {
   "cell_type": "markdown",
   "metadata": {},
   "source": [
    "## 輸出：每月攤還本金,利息及本利累積之一覽表"
   ]
  },
  {
   "cell_type": "code",
   "execution_count": 6,
   "metadata": {},
   "outputs": [
    {
     "data": {
      "text/html": [
       "<div>\n",
       "<style scoped>\n",
       "    .dataframe tbody tr th:only-of-type {\n",
       "        vertical-align: middle;\n",
       "    }\n",
       "\n",
       "    .dataframe tbody tr th {\n",
       "        vertical-align: top;\n",
       "    }\n",
       "\n",
       "    .dataframe thead th {\n",
       "        text-align: right;\n",
       "    }\n",
       "</style>\n",
       "<table border=\"1\" class=\"dataframe\">\n",
       "  <thead>\n",
       "    <tr style=\"text-align: right;\">\n",
       "      <th></th>\n",
       "      <th>本金(元)</th>\n",
       "      <th>利息(元)</th>\n",
       "      <th>本利累計(元)</th>\n",
       "    </tr>\n",
       "  </thead>\n",
       "  <tbody>\n",
       "    <tr>\n",
       "      <th>第1期</th>\n",
       "      <td>3334</td>\n",
       "      <td>80</td>\n",
       "      <td>3414</td>\n",
       "    </tr>\n",
       "    <tr>\n",
       "      <th>第2期</th>\n",
       "      <td>3334</td>\n",
       "      <td>77</td>\n",
       "      <td>6825</td>\n",
       "    </tr>\n",
       "    <tr>\n",
       "      <th>第3期</th>\n",
       "      <td>3334</td>\n",
       "      <td>73</td>\n",
       "      <td>10232</td>\n",
       "    </tr>\n",
       "    <tr>\n",
       "      <th>第4期</th>\n",
       "      <td>3334</td>\n",
       "      <td>70</td>\n",
       "      <td>13636</td>\n",
       "    </tr>\n",
       "    <tr>\n",
       "      <th>第5期</th>\n",
       "      <td>3334</td>\n",
       "      <td>67</td>\n",
       "      <td>17037</td>\n",
       "    </tr>\n",
       "    <tr>\n",
       "      <th>第6期</th>\n",
       "      <td>3334</td>\n",
       "      <td>63</td>\n",
       "      <td>20434</td>\n",
       "    </tr>\n",
       "    <tr>\n",
       "      <th>第7期</th>\n",
       "      <td>3334</td>\n",
       "      <td>60</td>\n",
       "      <td>23828</td>\n",
       "    </tr>\n",
       "    <tr>\n",
       "      <th>第8期</th>\n",
       "      <td>3334</td>\n",
       "      <td>57</td>\n",
       "      <td>27219</td>\n",
       "    </tr>\n",
       "    <tr>\n",
       "      <th>第9期</th>\n",
       "      <td>3334</td>\n",
       "      <td>53</td>\n",
       "      <td>30606</td>\n",
       "    </tr>\n",
       "    <tr>\n",
       "      <th>第10期</th>\n",
       "      <td>3334</td>\n",
       "      <td>50</td>\n",
       "      <td>33990</td>\n",
       "    </tr>\n",
       "    <tr>\n",
       "      <th>第11期</th>\n",
       "      <td>3334</td>\n",
       "      <td>47</td>\n",
       "      <td>37371</td>\n",
       "    </tr>\n",
       "    <tr>\n",
       "      <th>第12期</th>\n",
       "      <td>3334</td>\n",
       "      <td>43</td>\n",
       "      <td>40748</td>\n",
       "    </tr>\n",
       "    <tr>\n",
       "      <th>第13期</th>\n",
       "      <td>3334</td>\n",
       "      <td>40</td>\n",
       "      <td>44122</td>\n",
       "    </tr>\n",
       "    <tr>\n",
       "      <th>第14期</th>\n",
       "      <td>3334</td>\n",
       "      <td>37</td>\n",
       "      <td>47493</td>\n",
       "    </tr>\n",
       "    <tr>\n",
       "      <th>第15期</th>\n",
       "      <td>3334</td>\n",
       "      <td>33</td>\n",
       "      <td>50860</td>\n",
       "    </tr>\n",
       "    <tr>\n",
       "      <th>第16期</th>\n",
       "      <td>3334</td>\n",
       "      <td>30</td>\n",
       "      <td>54224</td>\n",
       "    </tr>\n",
       "    <tr>\n",
       "      <th>第17期</th>\n",
       "      <td>3334</td>\n",
       "      <td>27</td>\n",
       "      <td>57585</td>\n",
       "    </tr>\n",
       "    <tr>\n",
       "      <th>第18期</th>\n",
       "      <td>3334</td>\n",
       "      <td>23</td>\n",
       "      <td>60942</td>\n",
       "    </tr>\n",
       "    <tr>\n",
       "      <th>第19期</th>\n",
       "      <td>3334</td>\n",
       "      <td>20</td>\n",
       "      <td>64296</td>\n",
       "    </tr>\n",
       "    <tr>\n",
       "      <th>第20期</th>\n",
       "      <td>3334</td>\n",
       "      <td>17</td>\n",
       "      <td>67647</td>\n",
       "    </tr>\n",
       "    <tr>\n",
       "      <th>第21期</th>\n",
       "      <td>3334</td>\n",
       "      <td>13</td>\n",
       "      <td>70994</td>\n",
       "    </tr>\n",
       "    <tr>\n",
       "      <th>第22期</th>\n",
       "      <td>3334</td>\n",
       "      <td>10</td>\n",
       "      <td>74338</td>\n",
       "    </tr>\n",
       "    <tr>\n",
       "      <th>第23期</th>\n",
       "      <td>3334</td>\n",
       "      <td>7</td>\n",
       "      <td>77679</td>\n",
       "    </tr>\n",
       "    <tr>\n",
       "      <th>第24期</th>\n",
       "      <td>3318</td>\n",
       "      <td>3</td>\n",
       "      <td>81000</td>\n",
       "    </tr>\n",
       "  </tbody>\n",
       "</table>\n",
       "</div>"
      ],
      "text/plain": [
       "      本金(元)  利息(元)  本利累計(元)\n",
       "第1期    3334     80     3414\n",
       "第2期    3334     77     6825\n",
       "第3期    3334     73    10232\n",
       "第4期    3334     70    13636\n",
       "第5期    3334     67    17037\n",
       "第6期    3334     63    20434\n",
       "第7期    3334     60    23828\n",
       "第8期    3334     57    27219\n",
       "第9期    3334     53    30606\n",
       "第10期   3334     50    33990\n",
       "第11期   3334     47    37371\n",
       "第12期   3334     43    40748\n",
       "第13期   3334     40    44122\n",
       "第14期   3334     37    47493\n",
       "第15期   3334     33    50860\n",
       "第16期   3334     30    54224\n",
       "第17期   3334     27    57585\n",
       "第18期   3334     23    60942\n",
       "第19期   3334     20    64296\n",
       "第20期   3334     17    67647\n",
       "第21期   3334     13    70994\n",
       "第22期   3334     10    74338\n",
       "第23期   3334      7    77679\n",
       "第24期   3318      3    81000"
      ]
     },
     "execution_count": 6,
     "metadata": {},
     "output_type": "execute_result"
    }
   ],
   "source": [
    "import pandas as pd \n",
    "data = {'本金(元)':prin_mon_pay, '利息(元)':inte_mon_pay, '本利累計(元)':all_accu_pay}\n",
    "col_names = []\n",
    "for i in range(int(year*12)):\n",
    "    col_names.append(\"第\"+str(i+1)+\"期\")\n",
    "df = pd.DataFrame(data,index=col_names)\n",
    "df"
   ]
  },
  {
   "cell_type": "code",
   "execution_count": null,
   "metadata": {},
   "outputs": [],
   "source": []
  }
 ],
 "metadata": {
  "kernelspec": {
   "display_name": "Python 3",
   "language": "python",
   "name": "python3"
  },
  "language_info": {
   "codemirror_mode": {
    "name": "ipython",
    "version": 3
   },
   "file_extension": ".py",
   "mimetype": "text/x-python",
   "name": "python",
   "nbconvert_exporter": "python",
   "pygments_lexer": "ipython3",
   "version": "3.6.5"
  }
 },
 "nbformat": 4,
 "nbformat_minor": 2
}
